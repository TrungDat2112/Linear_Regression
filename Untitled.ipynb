{
 "cells": [
  {
   "cell_type": "code",
   "execution_count": 1,
   "id": "4a1245a9-8119-48ae-bf3f-fc8b2490883f",
   "metadata": {},
   "outputs": [],
   "source": [
    "import copy, math\n",
    "import numpy as np\n",
    "import pandas as pd\n",
    "import matplotlib.pyplot as plt\n",
    "plt.style.use('./deeplearning.mplstyle')\n",
    "np.set_printoptions(precision=2)"
   ]
  },
  {
   "cell_type": "code",
   "execution_count": 2,
   "id": "812b9bc1-b5f2-41ee-bd2c-7923b9a6bfd0",
   "metadata": {},
   "outputs": [],
   "source": [
    "data = np.loadtxt('house.txt', delimiter=',', skiprows=0, dtype=float)"
   ]
  },
  {
   "cell_type": "code",
   "execution_count": 3,
   "id": "5ac7158f-415a-43c8-b539-afabc6726d02",
   "metadata": {},
   "outputs": [],
   "source": [
    "x_train = data[:,:7]\n",
    "y_train = data[:,7]"
   ]
  },
  {
   "cell_type": "code",
   "execution_count": 4,
   "id": "6a685eb5-220c-4042-b6e4-20f92b960f07",
   "metadata": {},
   "outputs": [
    {
     "name": "stdout",
     "output_type": "stream",
     "text": [
      "X Shape: (39, 7), X Type:<class 'numpy.ndarray'>)\n",
      "[[ 1. 35. 30.  3.  1.  1.  0.]\n",
      " [ 1. 25. 30.  1.  1.  1.  1.]\n",
      " [ 1. 27. 40.  4.  1.  0.  0.]\n",
      " [ 1. 25. 50.  1.  1.  1.  0.]\n",
      " [ 1. 25. 25.  5.  0.  0.  0.]\n",
      " [ 1. 20. 30.  3.  0.  0.  0.]\n",
      " [ 1. 28. 35.  5.  0.  0.  0.]\n",
      " [ 1. 30. 40.  5.  0.  0.  0.]\n",
      " [ 1. 30. 40.  3.  0.  0.  0.]\n",
      " [ 1. 23. 40.  1.  0.  0.  0.]\n",
      " [ 1. 35. 37.  7.  0.  0.  0.]\n",
      " [ 1. 30. 36.  5.  0.  0.  0.]\n",
      " [ 1. 25. 40.  1.  1.  0.  0.]\n",
      " [ 1. 20. 30.  1.  1.  1.  0.]\n",
      " [ 2. 60. 20. 15.  0.  1.  0.]\n",
      " [ 2. 31. 30.  5.  0.  0.  0.]\n",
      " [ 1. 30. 28.  5.  0.  0.  0.]\n",
      " [ 1. 25. 33.  3.  1.  0.  0.]\n",
      " [ 1. 30. 36.  2.  0.  0.  0.]\n",
      " [ 1. 35. 26.  8.  1.  0.  0.]\n",
      " [ 1. 30. 20.  3.  1.  0.  0.]\n",
      " [ 1. 30. 20.  6.  0.  0.  0.]\n",
      " [ 1. 25. 29.  3.  0.  0.  0.]\n",
      " [ 1. 35. 35.  4.  0.  0.  1.]\n",
      " [ 1. 35. 20.  5.  0.  0.  1.]\n",
      " [ 1. 30. 27.  6.  1.  0.  0.]\n",
      " [ 1. 30. 26.  5.  0.  0.  1.]\n",
      " [ 1. 30. 20.  8.  0.  0.  0.]\n",
      " [ 1. 25. 33.  7.  0.  0.  0.]\n",
      " [ 1. 27. 34.  4.  0.  0.  0.]\n",
      " [ 1. 25. 30.  4.  0.  0.  0.]\n",
      " [ 1. 30. 35.  5.  0.  0.  0.]\n",
      " [ 1. 30. 28.  3.  0.  0.  0.]\n",
      " [ 1. 30. 37.  3.  1.  0.  1.]\n",
      " [ 1. 29. 33.  5.  0.  0.  0.]\n",
      " [ 1. 30. 29.  5.  0.  0.  0.]\n",
      " [ 1. 30. 35.  4.  1.  0.  0.]\n",
      " [ 1. 30. 23.  6.  0.  0.  0.]\n",
      " [ 1. 30. 39.  4.  1.  1.  0.]]\n",
      "y Shape: (39,), y Type:<class 'numpy.ndarray'>)\n",
      "[4500. 5400. 4500. 5000. 3500. 2500. 4000. 4200. 4600. 4000. 4500. 4200.\n",
      " 4500. 4200. 4000. 4000. 3700. 3900. 4000. 4000. 4300. 3300. 3900. 4200.\n",
      " 3200. 3900. 3600. 3200. 3600. 3600. 3300. 3600. 3700. 4500. 3500. 3900.\n",
      " 4000. 3200. 4500.]\n"
     ]
    }
   ],
   "source": [
    "# data is stored in numpy array/matrix\n",
    "print(f\"X Shape: {x_train.shape}, X Type:{type(x_train)})\")\n",
    "print(x_train)\n",
    "print(f\"y Shape: {y_train.shape}, y Type:{type(y_train)})\")\n",
    "print(y_train)"
   ]
  },
  {
   "cell_type": "code",
   "execution_count": 5,
   "id": "e240563c-4abc-4170-9378-0ba9a69ea91e",
   "metadata": {},
   "outputs": [],
   "source": [
    "b_init = 205,63543538056\n",
    "w_init = np.array([243.37834284,7.347347234,5.42342348,-483.43274224,234.34733274,674.43744732,125.23643244])"
   ]
  },
  {
   "cell_type": "code",
   "execution_count": 6,
   "id": "5745552b-b41c-4109-a3f1-51d18c926867",
   "metadata": {},
   "outputs": [],
   "source": [
    "def predict_single_loop(x,w,b):\n",
    "    \"\"\"\n",
    "    single predict using linear regression\n",
    "    \n",
    "    Args:\n",
    "      x (ndarray): Shape (n,) example with multiple features\n",
    "      w (ndarray): Shape (n,) model parameters    \n",
    "      b (scalar):  model parameter     \n",
    "      \n",
    "    Returns:\n",
    "      p (scalar):  prediction\n",
    "    \"\"\"\n",
    "    n = x.shape[0]\n",
    "    p = 0\n",
    "    for i in range(n):\n",
    "        p_i = x[i] * w[i]\n",
    "        p += p_i\n",
    "    p += b\n",
    "    return p"
   ]
  },
  {
   "cell_type": "code",
   "execution_count": 7,
   "id": "b0774a2a-2e6d-4ceb-a7fb-219b5082e596",
   "metadata": {},
   "outputs": [],
   "source": [
    "def predict(x,w,b):\n",
    "    p = np.dot(x,w) + b\n",
    "    return p"
   ]
  },
  {
   "cell_type": "code",
   "execution_count": 8,
   "id": "590897c4-41c2-491c-a346-70276611cc2b",
   "metadata": {},
   "outputs": [],
   "source": [
    "def compute_cost(x,y,w,b):\n",
    "     \n",
    "    m = x.shape[0]\n",
    "    cost = 0.0\n",
    "    for i in range (m):\n",
    "        f_wb_i = np.dot(x[i],w) + b\n",
    "        cost = cost + (f_wb_i - y[i])**2\n",
    "    cost = cost / (2 *m)\n",
    "    return cost"
   ]
  },
  {
   "cell_type": "code",
   "execution_count": 9,
   "id": "48dea42f-062e-48c2-a67e-f86b7aa871f3",
   "metadata": {},
   "outputs": [],
   "source": [
    "def compute_gradient(x,y,w,b):\n",
    "    m,n = x.shape\n",
    "    dj_dw = np.zeros((n,))\n",
    "    dj_db = 0.0\n",
    "    for i in range (m):\n",
    "        err = (np.dot(x[i],w) + b) - y[i]\n",
    "        for j in range(n):\n",
    "            dj_dw[j] = dj_dw[j] +  err * x[i,j]\n",
    "        dj_db = dj_db + err\n",
    "    dj_dw = dj_dw / m\n",
    "    dj_db = dj_db / m\n",
    "    return dj_db, dj_dw"
   ]
  },
  {
   "cell_type": "code",
   "execution_count": 14,
   "id": "289b6294-2405-4d08-912f-40c95a62f2b4",
   "metadata": {},
   "outputs": [],
   "source": [
    "def gradient_descent(x, y, w_in, b_in, cost_function, gradient_function, alpha, num_iters):\n",
    "    \"\"\"\n",
    "    Args:\n",
    "      X (ndarray (m,n))   : Data, m examples with n features\n",
    "      y (ndarray (m,))    : target values\n",
    "      w_in (ndarray (n,)) : initial model parameters  \n",
    "      b_in (scalar)       : initial model parameter\n",
    "      cost_function       : function to compute cost\n",
    "      gradient_function   : function to compute the gradient\n",
    "      alpha (float)       : Learning rate\n",
    "      num_iters (int)     : number of iterations to run gradient descent\n",
    "      \n",
    "    Returns:\n",
    "      w (ndarray (n,)) : Updated values of parameters \n",
    "      b (scalar)       : Updated value of parameter \n",
    "      \"\"\"\n",
    "    J_history = []\n",
    "    w = copy.deepcopy(w_in) #avoid modifying global w within function\n",
    "    b = b_in\n",
    "    for i in range(num_iters):\n",
    "        dj_db, dj_dw = gradient_function(x,y,w,b)\n",
    "        # Update Parameters using w, b, alpha and gradient\n",
    "        w = w - alpha * dj_dw               ##None\n",
    "        b = b - alpha * dj_db               ##None\n",
    "      \n",
    "        # Save cost J at each iteration\n",
    "        if i<100000:      # prevent resource exhaustion \n",
    "            J_history.append( cost_function(x, y, w, b))\n",
    "\n",
    "        # Print cost every at intervals 10 times or as many iterations if < 10\n",
    "        if i% math.ceil(num_iters / 20) == 0:\n",
    "            print(f\"Iteration {i:4d}: Cost {J_history[-1]:8.2f}   \")\n",
    "        \n",
    "    return w, b, J_history #return final w,b and J history for graphing"
   ]
  },
  {
   "cell_type": "code",
   "execution_count": 15,
   "id": "ee3c6b54-e7b5-46fe-be01-523100d302b5",
   "metadata": {},
   "outputs": [
    {
     "name": "stdout",
     "output_type": "stream",
     "text": [
      "Iteration    0: Cost 7960845.62   \n",
      "Iteration  500: Cost 6595636.34   \n",
      "Iteration 1000: Cost 5468172.93   \n",
      "Iteration 1500: Cost 4537051.31   \n",
      "Iteration 2000: Cost 3768078.02   \n",
      "Iteration 2500: Cost 3133014.52   \n",
      "Iteration 3000: Cost 2608540.07   \n",
      "Iteration 3500: Cost 2175395.32   \n",
      "Iteration 4000: Cost 1817674.99   \n",
      "Iteration 4500: Cost 1522243.73   \n",
      "Iteration 5000: Cost 1278253.78   \n",
      "Iteration 5500: Cost 1076746.53   \n",
      "Iteration 6000: Cost 910323.54   \n",
      "Iteration 6500: Cost 772874.84   \n",
      "Iteration 7000: Cost 659354.50   \n",
      "Iteration 7500: Cost 565595.40   \n",
      "Iteration 8000: Cost 488156.08   \n",
      "Iteration 8500: Cost 424194.47   \n",
      "Iteration 9000: Cost 371363.43   \n",
      "Iteration 9500: Cost 327724.57   \n",
      "b,w found by gradient descent: 1.77,[ 1.85 51.73 56.75  7.31  0.73  0.35  0.26] \n",
      "prediction: 3539.76, target value: 4500.0\n",
      "prediction: 3008.06, target value: 5400.0\n",
      "prediction: 3700.36, target value: 4500.0\n",
      "prediction: 4142.79, target value: 5000.0\n",
      "prediction: 2752.24, target value: 3500.0\n",
      "prediction: 2762.69, target value: 2500.0\n",
      "prediction: 3474.92, target value: 4000.0\n",
      "prediction: 3862.14, target value: 4200.0\n",
      "prediction: 3847.51, target value: 4600.0\n",
      "prediction: 3470.76, target value: 4000.0\n",
      "prediction: 3965.18, target value: 4500.0\n",
      "prediction: 3635.14, target value: 4200.0\n",
      "prediction: 3574.95, target value: 4500.0\n",
      "prediction: 2749.14, target value: 4200.0\n",
      "prediction: 4354.46, target value: 4000.0\n",
      "prediction: 3348.23, target value: 4000.0\n",
      "prediction: 3181.15, target value: 3700.0\n",
      "prediction: 3192.33, target value: 3900.0\n",
      "prediction: 3613.20, target value: 4000.0\n",
      "prediction: 3348.98, target value: 4000.0\n",
      "prediction: 2713.25, target value: 4300.0\n",
      "prediction: 2734.46, target value: 3300.0\n",
      "prediction: 2964.61, target value: 3900.0\n",
      "prediction: 3830.00, target value: 4200.0\n",
      "prediction: 2986.07, target value: 3200.0\n",
      "prediction: 3132.44, target value: 3900.0\n",
      "prediction: 3067.91, target value: 3600.0\n",
      "prediction: 2749.09, target value: 3200.0\n",
      "prediction: 3220.86, target value: 3600.0\n",
      "prediction: 3359.13, target value: 3600.0\n",
      "prediction: 3028.67, target value: 3300.0\n",
      "prediction: 3578.39, target value: 3600.0\n",
      "prediction: 3166.52, target value: 3700.0\n",
      "prediction: 3678.25, target value: 4500.0\n",
      "prediction: 3413.16, target value: 3500.0\n",
      "prediction: 3237.89, target value: 3900.0\n",
      "prediction: 3571.81, target value: 4000.0\n",
      "prediction: 2904.71, target value: 3200.0\n",
      "prediction: 3799.15, target value: 4500.0\n"
     ]
    }
   ],
   "source": [
    "# initialize parameters\n",
    "initial_w = np.zeros_like(w_init)\n",
    "initial_b = 0.\n",
    "# some gradient descent settings\n",
    "iterations = 10000\n",
    "alpha = 1.0e-7\n",
    "# run gradient descent \n",
    "w_final, b_final, J_hist = gradient_descent(x_train, y_train, initial_w, initial_b,compute_cost, compute_gradient, alpha, iterations)\n",
    "print(f\"b,w found by gradient descent: {b_final:0.2f},{w_final} \")\n",
    "m,_ = x_train.shape\n",
    "for i in range(m):\n",
    "    print(f\"prediction: {np.dot(x_train[i], w_final) + b_final:0.2f}, target value: {y_train[i]}\")"
   ]
  },
  {
   "cell_type": "code",
   "execution_count": null,
   "id": "d2a7fc05-5718-4f8f-88d6-d1fd21d7d467",
   "metadata": {},
   "outputs": [],
   "source": []
  }
 ],
 "metadata": {
  "kernelspec": {
   "display_name": "Python 3 (ipykernel)",
   "language": "python",
   "name": "python3"
  },
  "language_info": {
   "codemirror_mode": {
    "name": "ipython",
    "version": 3
   },
   "file_extension": ".py",
   "mimetype": "text/x-python",
   "name": "python",
   "nbconvert_exporter": "python",
   "pygments_lexer": "ipython3",
   "version": "3.11.4"
  }
 },
 "nbformat": 4,
 "nbformat_minor": 5
}
